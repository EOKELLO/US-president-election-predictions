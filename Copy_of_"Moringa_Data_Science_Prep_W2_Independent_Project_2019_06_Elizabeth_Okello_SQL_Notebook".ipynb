{
  "nbformat": 4,
  "nbformat_minor": 0,
  "metadata": {
    "colab": {
      "name": "Copy of \"Moringa_Data_Science_Prep_W2_Independent_Project_2019_06_Elizabeth_Okello_SQL_Notebook\"",
      "provenance": [],
      "collapsed_sections": [],
      "include_colab_link": true
    },
    "kernelspec": {
      "name": "python3",
      "display_name": "Python 3"
    }
  },
  "cells": [
    {
      "cell_type": "markdown",
      "metadata": {
        "id": "view-in-github",
        "colab_type": "text"
      },
      "source": [
        "<a href=\"https://colab.research.google.com/github/EOKELLO/US-president-election-predictions/blob/master/Copy_of_%22Moringa_Data_Science_Prep_W2_Independent_Project_2019_06_Elizabeth_Okello_SQL_Notebook%22.ipynb\" target=\"_parent\"><img src=\"https://colab.research.google.com/assets/colab-badge.svg\" alt=\"Open In Colab\"/></a>"
      ]
    },
    {
      "cell_type": "code",
      "metadata": {
        "id": "KJ-ahxDMHTPX",
        "colab_type": "code",
        "outputId": "f41fd1a2-c931-43ce-b5f3-8829378d1417",
        "colab": {
          "base_uri": "https://localhost:8080/",
          "height": 70
        }
      },
      "source": [
        "#WE CONNECT TO OUR DATABASE\n",
        "#we first load the sql extension into our environment\n",
        "%load_ext sql\n",
        "\n",
        "#Then connect to our in memory sqlite database\n",
        "%sql sqlite://"
      ],
      "execution_count": 0,
      "outputs": [
        {
          "output_type": "stream",
          "text": [
            "The sql extension is already loaded. To reload it, use:\n",
            "  %reload_ext sql\n"
          ],
          "name": "stdout"
        },
        {
          "output_type": "execute_result",
          "data": {
            "text/plain": [
              "'Connected: @None'"
            ]
          },
          "metadata": {
            "tags": []
          },
          "execution_count": 2
        }
      ]
    },
    {
      "cell_type": "code",
      "metadata": {
        "id": "uP53OAruIAZg",
        "colab_type": "code",
        "colab": {}
      },
      "source": [
        "#Import python libraries that we will need in this notebook\n",
        "import csv\n",
        "import pandas as pd\n"
      ],
      "execution_count": 0,
      "outputs": []
    },
    {
      "cell_type": "code",
      "metadata": {
        "id": "ohgpc_toIJoR",
        "colab_type": "code",
        "colab": {}
      },
      "source": [
        "#loading the table from a local CSV file\n",
        "#\n",
        "with open('Elections.csv', 'r')as f:\n",
        "      Elections = pd.read_csv(f, index_col=0, encoding='utf-8' )"
      ],
      "execution_count": 0,
      "outputs": []
    },
    {
      "cell_type": "code",
      "metadata": {
        "id": "rM-e6XjMIP1b",
        "colab_type": "code",
        "outputId": "bde2b256-3d34-4b6e-9784-2791a0ef649f",
        "colab": {
          "base_uri": "https://localhost:8080/",
          "height": 213
        }
      },
      "source": [
        "#Then storing it in an SQL table in our sqlite memory\n",
        "#\n",
        "%sql DROP TABLE if EXISTS Elections;\n",
        "%sql PERSIST Elections\n",
        "%sql SELECT * FROM Elections LIMIT 5;"
      ],
      "execution_count": 0,
      "outputs": [
        {
          "output_type": "stream",
          "text": [
            " * sqlite://\n",
            "Done.\n",
            " * sqlite://\n",
            " * sqlite://\n",
            "Done.\n"
          ],
          "name": "stdout"
        },
        {
          "output_type": "execute_result",
          "data": {
            "text/html": [
              "<table>\n",
              "    <tr>\n",
              "        <th>State</th>\n",
              "        <th>GrandElectors</th>\n",
              "    </tr>\n",
              "    <tr>\n",
              "        <td>Alabama</td>\n",
              "        <td>9</td>\n",
              "    </tr>\n",
              "    <tr>\n",
              "        <td>Alaska</td>\n",
              "        <td>3</td>\n",
              "    </tr>\n",
              "    <tr>\n",
              "        <td>Arizona</td>\n",
              "        <td>11</td>\n",
              "    </tr>\n",
              "    <tr>\n",
              "        <td>Arkansas</td>\n",
              "        <td>6</td>\n",
              "    </tr>\n",
              "    <tr>\n",
              "        <td>California</td>\n",
              "        <td>55</td>\n",
              "    </tr>\n",
              "</table>"
            ],
            "text/plain": [
              "[('Alabama', 9),\n",
              " ('Alaska', 3),\n",
              " ('Arizona', 11),\n",
              " ('Arkansas', 6),\n",
              " ('California', 55)]"
            ]
          },
          "metadata": {
            "tags": []
          },
          "execution_count": 6
        }
      ]
    },
    {
      "cell_type": "code",
      "metadata": {
        "id": "pFqVfmiHQfFS",
        "colab_type": "code",
        "colab": {}
      },
      "source": [
        "#loading the table from a local CSV file\n",
        "#\n",
        "with open('Population_state.csv', 'r')as f:\n",
        "      Population_state = pd.read_csv(f, index_col=0, encoding='utf-8' )"
      ],
      "execution_count": 0,
      "outputs": []
    },
    {
      "cell_type": "code",
      "metadata": {
        "id": "q7FroIYgQctU",
        "colab_type": "code",
        "outputId": "16302fa9-8a35-42d4-ff48-d390641e134c",
        "colab": {
          "base_uri": "https://localhost:8080/",
          "height": 213
        }
      },
      "source": [
        "#Then storing it in an SQL table in our sqlite memory\n",
        "#\n",
        "%sql DROP TABLE if EXISTS Population_state;\n",
        "%sql PERSIST Population_state\n",
        "%sql SELECT * FROM Population_state LIMIT 5;\n"
      ],
      "execution_count": 0,
      "outputs": [
        {
          "output_type": "stream",
          "text": [
            " * sqlite://\n",
            "Done.\n",
            " * sqlite://\n",
            " * sqlite://\n",
            "Done.\n"
          ],
          "name": "stdout"
        },
        {
          "output_type": "execute_result",
          "data": {
            "text/html": [
              "<table>\n",
              "    <tr>\n",
              "        <th>State</th>\n",
              "        <th>Population</th>\n",
              "    </tr>\n",
              "    <tr>\n",
              "        <td>CALIFORNIA</td>\n",
              "        <td>39144818</td>\n",
              "    </tr>\n",
              "    <tr>\n",
              "        <td>TEXAS</td>\n",
              "        <td>27469114</td>\n",
              "    </tr>\n",
              "    <tr>\n",
              "        <td>FLORIDA</td>\n",
              "        <td>20271272</td>\n",
              "    </tr>\n",
              "    <tr>\n",
              "        <td>NEW YORK</td>\n",
              "        <td>19795791</td>\n",
              "    </tr>\n",
              "    <tr>\n",
              "        <td>ILLINOIS</td>\n",
              "        <td>12859995</td>\n",
              "    </tr>\n",
              "</table>"
            ],
            "text/plain": [
              "[('CALIFORNIA', 39144818),\n",
              " ('TEXAS', 27469114),\n",
              " ('FLORIDA', 20271272),\n",
              " ('NEW YORK', 19795791),\n",
              " ('ILLINOIS', 12859995)]"
            ]
          },
          "metadata": {
            "tags": []
          },
          "execution_count": 8
        }
      ]
    },
    {
      "cell_type": "code",
      "metadata": {
        "id": "KtMuveUgad40",
        "colab_type": "code",
        "outputId": "6ce169b2-1285-46aa-a183-9d763572e7f6",
        "colab": {
          "base_uri": "https://localhost:8080/",
          "height": 70
        }
      },
      "source": [
        "# convert state column items in elections dataset to uppercase\n",
        "%%sql\n",
        "UPDATE Elections set(State) = UPPER(State);"
      ],
      "execution_count": 0,
      "outputs": [
        {
          "output_type": "stream",
          "text": [
            " * sqlite://\n",
            "51 rows affected.\n"
          ],
          "name": "stdout"
        },
        {
          "output_type": "execute_result",
          "data": {
            "text/plain": [
              "[]"
            ]
          },
          "metadata": {
            "tags": []
          },
          "execution_count": 9
        }
      ]
    },
    {
      "cell_type": "code",
      "metadata": {
        "id": "HQgFft8Rf5Bt",
        "colab_type": "code",
        "outputId": "b3ef6f79-0492-4c4b-8f5b-3226d7ff3905",
        "colab": {
          "base_uri": "https://localhost:8080/",
          "height": 160
        }
      },
      "source": [
        "#view to see the effect of the update on the table\n",
        "%%sql\n",
        "SELECT * FROM Elections\n",
        "LIMIT 5;"
      ],
      "execution_count": 0,
      "outputs": [
        {
          "output_type": "stream",
          "text": [
            " * sqlite://\n",
            "Done.\n"
          ],
          "name": "stdout"
        },
        {
          "output_type": "execute_result",
          "data": {
            "text/html": [
              "<table>\n",
              "    <tr>\n",
              "        <th>State</th>\n",
              "        <th>GrandElectors</th>\n",
              "    </tr>\n",
              "    <tr>\n",
              "        <td>ALABAMA</td>\n",
              "        <td>9</td>\n",
              "    </tr>\n",
              "    <tr>\n",
              "        <td>ALASKA</td>\n",
              "        <td>3</td>\n",
              "    </tr>\n",
              "    <tr>\n",
              "        <td>ARIZONA</td>\n",
              "        <td>11</td>\n",
              "    </tr>\n",
              "    <tr>\n",
              "        <td>ARKANSAS</td>\n",
              "        <td>6</td>\n",
              "    </tr>\n",
              "    <tr>\n",
              "        <td>CALIFORNIA</td>\n",
              "        <td>55</td>\n",
              "    </tr>\n",
              "</table>"
            ],
            "text/plain": [
              "[('ALABAMA', 9),\n",
              " ('ALASKA', 3),\n",
              " ('ARIZONA', 11),\n",
              " ('ARKANSAS', 6),\n",
              " ('CALIFORNIA', 55)]"
            ]
          },
          "metadata": {
            "tags": []
          },
          "execution_count": 10
        }
      ]
    },
    {
      "cell_type": "code",
      "metadata": {
        "id": "d-gP9832bUIF",
        "colab_type": "code",
        "outputId": "82276c82-ce61-42e7-acce-84920d0a4ea6",
        "colab": {
          "base_uri": "https://localhost:8080/",
          "height": 160
        }
      },
      "source": [
        "# We now join the two tables at the state column\n",
        "#\n",
        "%%sql\n",
        "SELECT Elections.State ,Population , GrandElectors \n",
        "FROM Elections \n",
        "INNER JOIN Population_state ON Elections.State = Population_state.State\n",
        "LIMIT 5;\n"
      ],
      "execution_count": 0,
      "outputs": [
        {
          "output_type": "stream",
          "text": [
            " * sqlite://\n",
            "Done.\n"
          ],
          "name": "stdout"
        },
        {
          "output_type": "execute_result",
          "data": {
            "text/html": [
              "<table>\n",
              "    <tr>\n",
              "        <th>State</th>\n",
              "        <th>Population</th>\n",
              "        <th>GrandElectors</th>\n",
              "    </tr>\n",
              "    <tr>\n",
              "        <td>ALABAMA</td>\n",
              "        <td>4858979</td>\n",
              "        <td>9</td>\n",
              "    </tr>\n",
              "    <tr>\n",
              "        <td>ALASKA</td>\n",
              "        <td>738432</td>\n",
              "        <td>3</td>\n",
              "    </tr>\n",
              "    <tr>\n",
              "        <td>ARIZONA</td>\n",
              "        <td>6828065</td>\n",
              "        <td>11</td>\n",
              "    </tr>\n",
              "    <tr>\n",
              "        <td>ARKANSAS</td>\n",
              "        <td>2978204</td>\n",
              "        <td>6</td>\n",
              "    </tr>\n",
              "    <tr>\n",
              "        <td>CALIFORNIA</td>\n",
              "        <td>39144818</td>\n",
              "        <td>55</td>\n",
              "    </tr>\n",
              "</table>"
            ],
            "text/plain": [
              "[('ALABAMA', 4858979, 9),\n",
              " ('ALASKA', 738432, 3),\n",
              " ('ARIZONA', 6828065, 11),\n",
              " ('ARKANSAS', 2978204, 6),\n",
              " ('CALIFORNIA', 39144818, 55)]"
            ]
          },
          "metadata": {
            "tags": []
          },
          "execution_count": 11
        }
      ]
    },
    {
      "cell_type": "code",
      "metadata": {
        "id": "OCgRuMP7KIpX",
        "colab_type": "code",
        "outputId": "52230d1d-b260-4f34-df83-0b446c5c80d2",
        "colab": {
          "base_uri": "https://localhost:8080/",
          "height": 177
        }
      },
      "source": [
        "%%sql\n",
        "CREATE TABLE interim AS\n",
        "SELECT GrandElectors, Population, UPPER(Population_state. State) AS STATEPOP, UPPER(Elections.State) AS STATE, Population_state.State AS STATEINPOP, Elections.State\n",
        "FROM Elections INNER JOIN Population_state \n",
        "ON UPPER(Elections.State) = UPPER(Population_state.State);\n",
        "\n",
        "SELECT * FROM interim\n",
        "LIMIT 5;\n"
      ],
      "execution_count": 0,
      "outputs": [
        {
          "output_type": "stream",
          "text": [
            " * sqlite://\n",
            "Done.\n",
            "Done.\n"
          ],
          "name": "stdout"
        },
        {
          "output_type": "execute_result",
          "data": {
            "text/html": [
              "<table>\n",
              "    <tr>\n",
              "        <th>GrandElectors</th>\n",
              "        <th>Population</th>\n",
              "        <th>STATEPOP</th>\n",
              "        <th>STATE</th>\n",
              "        <th>STATEINPOP</th>\n",
              "        <th>State:1</th>\n",
              "    </tr>\n",
              "    <tr>\n",
              "        <td>9</td>\n",
              "        <td>4858979</td>\n",
              "        <td>ALABAMA</td>\n",
              "        <td>ALABAMA</td>\n",
              "        <td>ALABAMA</td>\n",
              "        <td>ALABAMA</td>\n",
              "    </tr>\n",
              "    <tr>\n",
              "        <td>3</td>\n",
              "        <td>738432</td>\n",
              "        <td>ALASKA</td>\n",
              "        <td>ALASKA</td>\n",
              "        <td>ALASKA</td>\n",
              "        <td>ALASKA</td>\n",
              "    </tr>\n",
              "    <tr>\n",
              "        <td>11</td>\n",
              "        <td>6828065</td>\n",
              "        <td>ARIZONA</td>\n",
              "        <td>ARIZONA</td>\n",
              "        <td>ARIZONA</td>\n",
              "        <td>ARIZONA</td>\n",
              "    </tr>\n",
              "    <tr>\n",
              "        <td>6</td>\n",
              "        <td>2978204</td>\n",
              "        <td>ARKANSAS</td>\n",
              "        <td>ARKANSAS</td>\n",
              "        <td>ARKANSAS</td>\n",
              "        <td>ARKANSAS</td>\n",
              "    </tr>\n",
              "    <tr>\n",
              "        <td>55</td>\n",
              "        <td>39144818</td>\n",
              "        <td>CALIFORNIA</td>\n",
              "        <td>CALIFORNIA</td>\n",
              "        <td>CALIFORNIA</td>\n",
              "        <td>CALIFORNIA</td>\n",
              "    </tr>\n",
              "</table>"
            ],
            "text/plain": [
              "[(9, 4858979, 'ALABAMA', 'ALABAMA', 'ALABAMA', 'ALABAMA'),\n",
              " (3, 738432, 'ALASKA', 'ALASKA', 'ALASKA', 'ALASKA'),\n",
              " (11, 6828065, 'ARIZONA', 'ARIZONA', 'ARIZONA', 'ARIZONA'),\n",
              " (6, 2978204, 'ARKANSAS', 'ARKANSAS', 'ARKANSAS', 'ARKANSAS'),\n",
              " (55, 39144818, 'CALIFORNIA', 'CALIFORNIA', 'CALIFORNIA', 'CALIFORNIA')]"
            ]
          },
          "metadata": {
            "tags": []
          },
          "execution_count": 12
        }
      ]
    },
    {
      "cell_type": "code",
      "metadata": {
        "id": "GhW1ZOJDNS4d",
        "colab_type": "code",
        "outputId": "a6b95e1a-3a0b-4bd5-bf57-838c49c622d7",
        "colab": {
          "base_uri": "https://localhost:8080/",
          "height": 70
        }
      },
      "source": [
        "%%sql \n",
        "DROP TABLE interim"
      ],
      "execution_count": 0,
      "outputs": [
        {
          "output_type": "stream",
          "text": [
            " * sqlite://\n",
            "Done.\n"
          ],
          "name": "stdout"
        },
        {
          "output_type": "execute_result",
          "data": {
            "text/plain": [
              "[]"
            ]
          },
          "metadata": {
            "tags": []
          },
          "execution_count": 19
        }
      ]
    },
    {
      "cell_type": "code",
      "metadata": {
        "id": "HbjR2Lj4_55s",
        "colab_type": "code",
        "outputId": "7c48ccf6-9360-4fa0-b566-1810f8aed137",
        "colab": {
          "base_uri": "https://localhost:8080/",
          "height": 87
        }
      },
      "source": [
        "\n",
        "%sql DROP TABLE if EXISTS Elections;\n",
        "%sql PERSIST Elections;\n"
      ],
      "execution_count": 0,
      "outputs": [
        {
          "output_type": "stream",
          "text": [
            " * sqlite://\n",
            "Done.\n",
            " * sqlite://\n"
          ],
          "name": "stdout"
        },
        {
          "output_type": "execute_result",
          "data": {
            "text/plain": [
              "'Persisted elections'"
            ]
          },
          "metadata": {
            "tags": []
          },
          "execution_count": 20
        }
      ]
    },
    {
      "cell_type": "code",
      "metadata": {
        "id": "s3_Km7FVX1EC",
        "colab_type": "code",
        "outputId": "182c51aa-8e47-494c-93ea-70780c01c7e5",
        "colab": {
          "base_uri": "https://localhost:8080/",
          "height": 106
        }
      },
      "source": [
        "#to change the name of the \"District of Columbia\" state to its short version \"DC\".\n",
        "#Here we use the update records syntax as below\n",
        "#\n",
        "%%sql\n",
        "UPDATE interim\n",
        "SET STATEPOP = \"DC\", STATE = \"DC\", STATEINPOP = \"DC\"\n",
        "WHERE Population = 672228 ;\n",
        "\n",
        "\n",
        "SELECT *\n",
        "FROM interim\n",
        "where STATE = \"DC\";\n",
        "\n",
        "\n"
      ],
      "execution_count": 0,
      "outputs": [
        {
          "output_type": "stream",
          "text": [
            " * sqlite://\n",
            "1 rows affected.\n",
            "Done.\n"
          ],
          "name": "stdout"
        },
        {
          "output_type": "execute_result",
          "data": {
            "text/html": [
              "<table>\n",
              "    <tr>\n",
              "        <th>GrandElectors</th>\n",
              "        <th>Population</th>\n",
              "        <th>STATEPOP</th>\n",
              "        <th>STATE</th>\n",
              "        <th>STATEINPOP</th>\n",
              "        <th>State:1</th>\n",
              "    </tr>\n",
              "    <tr>\n",
              "        <td>3</td>\n",
              "        <td>672228</td>\n",
              "        <td>DC</td>\n",
              "        <td>DC</td>\n",
              "        <td>DC</td>\n",
              "        <td>DISTRICT OF COLUMBIA</td>\n",
              "    </tr>\n",
              "</table>"
            ],
            "text/plain": [
              "[(3, 672228, 'DC', 'DC', 'DC', 'DISTRICT OF COLUMBIA')]"
            ]
          },
          "metadata": {
            "tags": []
          },
          "execution_count": 13
        }
      ]
    },
    {
      "cell_type": "code",
      "metadata": {
        "id": "jD5ikCYeLbwN",
        "colab_type": "code",
        "outputId": "b666d654-db2c-4512-8bc7-bd9296f3c900",
        "colab": {
          "base_uri": "https://localhost:8080/",
          "height": 160
        }
      },
      "source": [
        "%%sql\n",
        "SELECT *, (Population/GrandElectors) AS \"Ratio\"\n",
        "FROM interim\n",
        "ORDER BY Ratio DESC\n",
        "LIMIT 5;\n"
      ],
      "execution_count": 0,
      "outputs": [
        {
          "output_type": "stream",
          "text": [
            " * sqlite://\n",
            "Done.\n"
          ],
          "name": "stdout"
        },
        {
          "output_type": "execute_result",
          "data": {
            "text/html": [
              "<table>\n",
              "    <tr>\n",
              "        <th>GrandElectors</th>\n",
              "        <th>Population</th>\n",
              "        <th>STATEPOP</th>\n",
              "        <th>STATE</th>\n",
              "        <th>STATEINPOP</th>\n",
              "        <th>State:1</th>\n",
              "        <th>Ratio</th>\n",
              "    </tr>\n",
              "    <tr>\n",
              "        <td>38</td>\n",
              "        <td>27469114</td>\n",
              "        <td>TEXAS</td>\n",
              "        <td>TEXAS</td>\n",
              "        <td>TEXAS</td>\n",
              "        <td>TEXAS</td>\n",
              "        <td>722871</td>\n",
              "    </tr>\n",
              "    <tr>\n",
              "        <td>55</td>\n",
              "        <td>39144818</td>\n",
              "        <td>CALIFORNIA</td>\n",
              "        <td>CALIFORNIA</td>\n",
              "        <td>CALIFORNIA</td>\n",
              "        <td>CALIFORNIA</td>\n",
              "        <td>711723</td>\n",
              "    </tr>\n",
              "    <tr>\n",
              "        <td>29</td>\n",
              "        <td>20271272</td>\n",
              "        <td>FLORIDA</td>\n",
              "        <td>FLORIDA</td>\n",
              "        <td>FLORIDA</td>\n",
              "        <td>FLORIDA</td>\n",
              "        <td>699009</td>\n",
              "    </tr>\n",
              "    <tr>\n",
              "        <td>29</td>\n",
              "        <td>19795791</td>\n",
              "        <td>NEW YORK</td>\n",
              "        <td>NEW YORK</td>\n",
              "        <td>NEW YORK</td>\n",
              "        <td>NEW YORK</td>\n",
              "        <td>682613</td>\n",
              "    </tr>\n",
              "    <tr>\n",
              "        <td>15</td>\n",
              "        <td>10042802</td>\n",
              "        <td>NORTH CAROLINA</td>\n",
              "        <td>NORTH CAROLINA</td>\n",
              "        <td>NORTH CAROLINA</td>\n",
              "        <td>NORTH CAROLINA</td>\n",
              "        <td>669520</td>\n",
              "    </tr>\n",
              "</table>"
            ],
            "text/plain": [
              "[(38, 27469114, 'TEXAS', 'TEXAS', 'TEXAS', 'TEXAS', 722871),\n",
              " (55, 39144818, 'CALIFORNIA', 'CALIFORNIA', 'CALIFORNIA', 'CALIFORNIA', 711723),\n",
              " (29, 20271272, 'FLORIDA', 'FLORIDA', 'FLORIDA', 'FLORIDA', 699009),\n",
              " (29, 19795791, 'NEW YORK', 'NEW YORK', 'NEW YORK', 'NEW YORK', 682613),\n",
              " (15, 10042802, 'NORTH CAROLINA', 'NORTH CAROLINA', 'NORTH CAROLINA', 'NORTH CAROLINA', 669520)]"
            ]
          },
          "metadata": {
            "tags": []
          },
          "execution_count": 14
        }
      ]
    },
    {
      "cell_type": "code",
      "metadata": {
        "id": "ZQy6-KShnEEr",
        "colab_type": "code",
        "outputId": "12a8b47b-bc2b-4975-d4c9-46bedd788e47",
        "colab": {
          "base_uri": "https://localhost:8080/",
          "height": 800
        }
      },
      "source": [
        "%%sql\n",
        "select A.STATE, A.GrandElectors, A.Population, sum(B.GrandElectors), sum(B.Population)\n",
        "from interim AS A\n",
        "INNER JOIN interim AS B ON ( A.Population >= B.Population)\n",
        "GROUP BY  A.Population\n",
        "ORDER BY A.GrandElectors asc\n",
        "limit 41"
      ],
      "execution_count": 0,
      "outputs": [
        {
          "output_type": "stream",
          "text": [
            " * sqlite://\n",
            "Done.\n"
          ],
          "name": "stdout"
        },
        {
          "output_type": "execute_result",
          "data": {
            "text/html": [
              "<table>\n",
              "    <tr>\n",
              "        <th>STATE</th>\n",
              "        <th>GrandElectors</th>\n",
              "        <th>Population</th>\n",
              "        <th>sum(B.GrandElectors)</th>\n",
              "        <th>sum(B.Population)</th>\n",
              "    </tr>\n",
              "    <tr>\n",
              "        <td>WYOMING</td>\n",
              "        <td>3</td>\n",
              "        <td>586107</td>\n",
              "        <td>3</td>\n",
              "        <td>586107</td>\n",
              "    </tr>\n",
              "    <tr>\n",
              "        <td>VERMONT</td>\n",
              "        <td>3</td>\n",
              "        <td>626042</td>\n",
              "        <td>6</td>\n",
              "        <td>1212149</td>\n",
              "    </tr>\n",
              "    <tr>\n",
              "        <td>DC</td>\n",
              "        <td>3</td>\n",
              "        <td>672228</td>\n",
              "        <td>9</td>\n",
              "        <td>1884377</td>\n",
              "    </tr>\n",
              "    <tr>\n",
              "        <td>ALASKA</td>\n",
              "        <td>3</td>\n",
              "        <td>738432</td>\n",
              "        <td>12</td>\n",
              "        <td>2622809</td>\n",
              "    </tr>\n",
              "    <tr>\n",
              "        <td>NORTH DAKOTA</td>\n",
              "        <td>3</td>\n",
              "        <td>756927</td>\n",
              "        <td>15</td>\n",
              "        <td>3379736</td>\n",
              "    </tr>\n",
              "    <tr>\n",
              "        <td>SOUTH DAKOTA</td>\n",
              "        <td>3</td>\n",
              "        <td>858469</td>\n",
              "        <td>18</td>\n",
              "        <td>4238205</td>\n",
              "    </tr>\n",
              "    <tr>\n",
              "        <td>DELAWARE</td>\n",
              "        <td>3</td>\n",
              "        <td>945934</td>\n",
              "        <td>21</td>\n",
              "        <td>5184139</td>\n",
              "    </tr>\n",
              "    <tr>\n",
              "        <td>MONTANA</td>\n",
              "        <td>3</td>\n",
              "        <td>1032949</td>\n",
              "        <td>24</td>\n",
              "        <td>6217088</td>\n",
              "    </tr>\n",
              "    <tr>\n",
              "        <td>RHODE ISLAND</td>\n",
              "        <td>4</td>\n",
              "        <td>1056298</td>\n",
              "        <td>28</td>\n",
              "        <td>7273386</td>\n",
              "    </tr>\n",
              "    <tr>\n",
              "        <td>MAINE</td>\n",
              "        <td>4</td>\n",
              "        <td>1329328</td>\n",
              "        <td>32</td>\n",
              "        <td>8602714</td>\n",
              "    </tr>\n",
              "    <tr>\n",
              "        <td>NEW HAMPSHIRE</td>\n",
              "        <td>4</td>\n",
              "        <td>1330608</td>\n",
              "        <td>36</td>\n",
              "        <td>9933322</td>\n",
              "    </tr>\n",
              "    <tr>\n",
              "        <td>HAWAII</td>\n",
              "        <td>4</td>\n",
              "        <td>1431603</td>\n",
              "        <td>40</td>\n",
              "        <td>11364925</td>\n",
              "    </tr>\n",
              "    <tr>\n",
              "        <td>IDAHO</td>\n",
              "        <td>4</td>\n",
              "        <td>1654930</td>\n",
              "        <td>44</td>\n",
              "        <td>13019855</td>\n",
              "    </tr>\n",
              "    <tr>\n",
              "        <td>WEST VIRGINIA</td>\n",
              "        <td>5</td>\n",
              "        <td>1844128</td>\n",
              "        <td>49</td>\n",
              "        <td>14863983</td>\n",
              "    </tr>\n",
              "    <tr>\n",
              "        <td>NEBRASKA</td>\n",
              "        <td>5</td>\n",
              "        <td>1896190</td>\n",
              "        <td>54</td>\n",
              "        <td>16760173</td>\n",
              "    </tr>\n",
              "    <tr>\n",
              "        <td>NEW MEXICO</td>\n",
              "        <td>5</td>\n",
              "        <td>2085109</td>\n",
              "        <td>59</td>\n",
              "        <td>18845282</td>\n",
              "    </tr>\n",
              "    <tr>\n",
              "        <td>NEVADA</td>\n",
              "        <td>6</td>\n",
              "        <td>2890845</td>\n",
              "        <td>65</td>\n",
              "        <td>21736127</td>\n",
              "    </tr>\n",
              "    <tr>\n",
              "        <td>KANSAS</td>\n",
              "        <td>6</td>\n",
              "        <td>2911641</td>\n",
              "        <td>71</td>\n",
              "        <td>24647768</td>\n",
              "    </tr>\n",
              "    <tr>\n",
              "        <td>ARKANSAS</td>\n",
              "        <td>6</td>\n",
              "        <td>2978204</td>\n",
              "        <td>77</td>\n",
              "        <td>27625972</td>\n",
              "    </tr>\n",
              "    <tr>\n",
              "        <td>MISSISSIPPI</td>\n",
              "        <td>6</td>\n",
              "        <td>2992333</td>\n",
              "        <td>83</td>\n",
              "        <td>30618305</td>\n",
              "    </tr>\n",
              "    <tr>\n",
              "        <td>UTAH</td>\n",
              "        <td>6</td>\n",
              "        <td>2995919</td>\n",
              "        <td>89</td>\n",
              "        <td>33614224</td>\n",
              "    </tr>\n",
              "    <tr>\n",
              "        <td>IOWA</td>\n",
              "        <td>6</td>\n",
              "        <td>3123899</td>\n",
              "        <td>95</td>\n",
              "        <td>36738123</td>\n",
              "    </tr>\n",
              "    <tr>\n",
              "        <td>CONNECTICUT</td>\n",
              "        <td>7</td>\n",
              "        <td>3590886</td>\n",
              "        <td>102</td>\n",
              "        <td>40329009</td>\n",
              "    </tr>\n",
              "    <tr>\n",
              "        <td>OKLAHOMA</td>\n",
              "        <td>7</td>\n",
              "        <td>3911338</td>\n",
              "        <td>109</td>\n",
              "        <td>44240347</td>\n",
              "    </tr>\n",
              "    <tr>\n",
              "        <td>OREGON</td>\n",
              "        <td>7</td>\n",
              "        <td>4028977</td>\n",
              "        <td>116</td>\n",
              "        <td>48269324</td>\n",
              "    </tr>\n",
              "    <tr>\n",
              "        <td>KENTUCKY</td>\n",
              "        <td>8</td>\n",
              "        <td>4425092</td>\n",
              "        <td>124</td>\n",
              "        <td>52694416</td>\n",
              "    </tr>\n",
              "    <tr>\n",
              "        <td>LOUISIANA</td>\n",
              "        <td>8</td>\n",
              "        <td>4670724</td>\n",
              "        <td>132</td>\n",
              "        <td>57365140</td>\n",
              "    </tr>\n",
              "    <tr>\n",
              "        <td>ALABAMA</td>\n",
              "        <td>9</td>\n",
              "        <td>4858979</td>\n",
              "        <td>141</td>\n",
              "        <td>62224119</td>\n",
              "    </tr>\n",
              "    <tr>\n",
              "        <td>SOUTH CAROLINA</td>\n",
              "        <td>9</td>\n",
              "        <td>4896146</td>\n",
              "        <td>150</td>\n",
              "        <td>67120265</td>\n",
              "    </tr>\n",
              "    <tr>\n",
              "        <td>COLORADO</td>\n",
              "        <td>9</td>\n",
              "        <td>5456574</td>\n",
              "        <td>159</td>\n",
              "        <td>72576839</td>\n",
              "    </tr>\n",
              "    <tr>\n",
              "        <td>MINNESOTA</td>\n",
              "        <td>10</td>\n",
              "        <td>5489594</td>\n",
              "        <td>169</td>\n",
              "        <td>78066433</td>\n",
              "    </tr>\n",
              "    <tr>\n",
              "        <td>WISCONSIN</td>\n",
              "        <td>10</td>\n",
              "        <td>5771337</td>\n",
              "        <td>179</td>\n",
              "        <td>83837770</td>\n",
              "    </tr>\n",
              "    <tr>\n",
              "        <td>MARYLAND</td>\n",
              "        <td>10</td>\n",
              "        <td>6006401</td>\n",
              "        <td>189</td>\n",
              "        <td>89844171</td>\n",
              "    </tr>\n",
              "    <tr>\n",
              "        <td>MISSOURI</td>\n",
              "        <td>10</td>\n",
              "        <td>6083672</td>\n",
              "        <td>199</td>\n",
              "        <td>95927843</td>\n",
              "    </tr>\n",
              "    <tr>\n",
              "        <td>TENNESSEE</td>\n",
              "        <td>11</td>\n",
              "        <td>6600299</td>\n",
              "        <td>210</td>\n",
              "        <td>102528142</td>\n",
              "    </tr>\n",
              "    <tr>\n",
              "        <td>INDIANA</td>\n",
              "        <td>11</td>\n",
              "        <td>6619680</td>\n",
              "        <td>221</td>\n",
              "        <td>109147822</td>\n",
              "    </tr>\n",
              "    <tr>\n",
              "        <td>MASSACHUSETTS</td>\n",
              "        <td>11</td>\n",
              "        <td>6794422</td>\n",
              "        <td>232</td>\n",
              "        <td>115942244</td>\n",
              "    </tr>\n",
              "    <tr>\n",
              "        <td>ARIZONA</td>\n",
              "        <td>11</td>\n",
              "        <td>6828065</td>\n",
              "        <td>243</td>\n",
              "        <td>122770309</td>\n",
              "    </tr>\n",
              "    <tr>\n",
              "        <td>WASHINGTON</td>\n",
              "        <td>12</td>\n",
              "        <td>7170351</td>\n",
              "        <td>255</td>\n",
              "        <td>129940660</td>\n",
              "    </tr>\n",
              "    <tr>\n",
              "        <td>VIRGINIA</td>\n",
              "        <td>13</td>\n",
              "        <td>8382993</td>\n",
              "        <td>268</td>\n",
              "        <td>138323653</td>\n",
              "    </tr>\n",
              "    <tr>\n",
              "        <td>NEW JERSEY</td>\n",
              "        <td>14</td>\n",
              "        <td>8958013</td>\n",
              "        <td>282</td>\n",
              "        <td>147281666</td>\n",
              "    </tr>\n",
              "</table>"
            ],
            "text/plain": [
              "[('WYOMING', 3, 586107, 3, 586107),\n",
              " ('VERMONT', 3, 626042, 6, 1212149),\n",
              " ('DC', 3, 672228, 9, 1884377),\n",
              " ('ALASKA', 3, 738432, 12, 2622809),\n",
              " ('NORTH DAKOTA', 3, 756927, 15, 3379736),\n",
              " ('SOUTH DAKOTA', 3, 858469, 18, 4238205),\n",
              " ('DELAWARE', 3, 945934, 21, 5184139),\n",
              " ('MONTANA', 3, 1032949, 24, 6217088),\n",
              " ('RHODE ISLAND', 4, 1056298, 28, 7273386),\n",
              " ('MAINE', 4, 1329328, 32, 8602714),\n",
              " ('NEW HAMPSHIRE', 4, 1330608, 36, 9933322),\n",
              " ('HAWAII', 4, 1431603, 40, 11364925),\n",
              " ('IDAHO', 4, 1654930, 44, 13019855),\n",
              " ('WEST VIRGINIA', 5, 1844128, 49, 14863983),\n",
              " ('NEBRASKA', 5, 1896190, 54, 16760173),\n",
              " ('NEW MEXICO', 5, 2085109, 59, 18845282),\n",
              " ('NEVADA', 6, 2890845, 65, 21736127),\n",
              " ('KANSAS', 6, 2911641, 71, 24647768),\n",
              " ('ARKANSAS', 6, 2978204, 77, 27625972),\n",
              " ('MISSISSIPPI', 6, 2992333, 83, 30618305),\n",
              " ('UTAH', 6, 2995919, 89, 33614224),\n",
              " ('IOWA', 6, 3123899, 95, 36738123),\n",
              " ('CONNECTICUT', 7, 3590886, 102, 40329009),\n",
              " ('OKLAHOMA', 7, 3911338, 109, 44240347),\n",
              " ('OREGON', 7, 4028977, 116, 48269324),\n",
              " ('KENTUCKY', 8, 4425092, 124, 52694416),\n",
              " ('LOUISIANA', 8, 4670724, 132, 57365140),\n",
              " ('ALABAMA', 9, 4858979, 141, 62224119),\n",
              " ('SOUTH CAROLINA', 9, 4896146, 150, 67120265),\n",
              " ('COLORADO', 9, 5456574, 159, 72576839),\n",
              " ('MINNESOTA', 10, 5489594, 169, 78066433),\n",
              " ('WISCONSIN', 10, 5771337, 179, 83837770),\n",
              " ('MARYLAND', 10, 6006401, 189, 89844171),\n",
              " ('MISSOURI', 10, 6083672, 199, 95927843),\n",
              " ('TENNESSEE', 11, 6600299, 210, 102528142),\n",
              " ('INDIANA', 11, 6619680, 221, 109147822),\n",
              " ('MASSACHUSETTS', 11, 6794422, 232, 115942244),\n",
              " ('ARIZONA', 11, 6828065, 243, 122770309),\n",
              " ('WASHINGTON', 12, 7170351, 255, 129940660),\n",
              " ('VIRGINIA', 13, 8382993, 268, 138323653),\n",
              " ('NEW JERSEY', 14, 8958013, 282, 147281666)]"
            ]
          },
          "metadata": {
            "tags": []
          },
          "execution_count": 15
        }
      ]
    },
    {
      "cell_type": "code",
      "metadata": {
        "id": "cW9ELIsxsvSA",
        "colab_type": "code",
        "outputId": "7b509fc2-ca1c-4890-9b7a-6646c8339751",
        "colab": {
          "base_uri": "https://localhost:8080/",
          "height": 88
        }
      },
      "source": [
        "%%sql\n",
        "select (sum(GrandElectors) / 2)\n",
        "from interim"
      ],
      "execution_count": 0,
      "outputs": [
        {
          "output_type": "stream",
          "text": [
            " * sqlite://\n",
            "Done.\n"
          ],
          "name": "stdout"
        },
        {
          "output_type": "execute_result",
          "data": {
            "text/html": [
              "<table>\n",
              "    <tr>\n",
              "        <th>(sum(GrandElectors) / 2)</th>\n",
              "    </tr>\n",
              "    <tr>\n",
              "        <td>269</td>\n",
              "    </tr>\n",
              "</table>"
            ],
            "text/plain": [
              "[(269,)]"
            ]
          },
          "metadata": {
            "tags": []
          },
          "execution_count": 18
        }
      ]
    },
    {
      "cell_type": "code",
      "metadata": {
        "id": "9wu-AzF6bonU",
        "colab_type": "code",
        "outputId": "085c76a0-09ef-414a-a6c4-acb8f73f4727",
        "colab": {
          "base_uri": "https://localhost:8080/",
          "height": 800
        }
      },
      "source": [
        "%%sql\n",
        "select A.STATE, A.GrandElectors, A.Population, sum(B.GrandElectors), sum(B.Population)\n",
        "from interim AS A\n",
        "INNER JOIN interim AS B ON ( A.Population <= B.Population)\n",
        "GROUP BY  A.Population\n",
        "ORDER BY A.GrandElectors desc\n",
        "limit 41"
      ],
      "execution_count": 0,
      "outputs": [
        {
          "output_type": "stream",
          "text": [
            " * sqlite://\n",
            "Done.\n"
          ],
          "name": "stdout"
        },
        {
          "output_type": "execute_result",
          "data": {
            "text/html": [
              "<table>\n",
              "    <tr>\n",
              "        <th>STATE</th>\n",
              "        <th>GrandElectors</th>\n",
              "        <th>Population</th>\n",
              "        <th>sum(B.GrandElectors)</th>\n",
              "        <th>sum(B.Population)</th>\n",
              "    </tr>\n",
              "    <tr>\n",
              "        <td>CALIFORNIA</td>\n",
              "        <td>55</td>\n",
              "        <td>39144818</td>\n",
              "        <td>55</td>\n",
              "        <td>39144818</td>\n",
              "    </tr>\n",
              "    <tr>\n",
              "        <td>TEXAS</td>\n",
              "        <td>38</td>\n",
              "        <td>27469114</td>\n",
              "        <td>93</td>\n",
              "        <td>66613932</td>\n",
              "    </tr>\n",
              "    <tr>\n",
              "        <td>NEW YORK</td>\n",
              "        <td>29</td>\n",
              "        <td>19795791</td>\n",
              "        <td>151</td>\n",
              "        <td>106680995</td>\n",
              "    </tr>\n",
              "    <tr>\n",
              "        <td>FLORIDA</td>\n",
              "        <td>29</td>\n",
              "        <td>20271272</td>\n",
              "        <td>122</td>\n",
              "        <td>86885204</td>\n",
              "    </tr>\n",
              "    <tr>\n",
              "        <td>PENNSYLVANIA</td>\n",
              "        <td>20</td>\n",
              "        <td>12802503</td>\n",
              "        <td>191</td>\n",
              "        <td>132343493</td>\n",
              "    </tr>\n",
              "    <tr>\n",
              "        <td>ILLINOIS</td>\n",
              "        <td>20</td>\n",
              "        <td>12859995</td>\n",
              "        <td>171</td>\n",
              "        <td>119540990</td>\n",
              "    </tr>\n",
              "    <tr>\n",
              "        <td>OHIO</td>\n",
              "        <td>18</td>\n",
              "        <td>11613423</td>\n",
              "        <td>209</td>\n",
              "        <td>143956916</td>\n",
              "    </tr>\n",
              "    <tr>\n",
              "        <td>MICHIGAN</td>\n",
              "        <td>16</td>\n",
              "        <td>9922576</td>\n",
              "        <td>256</td>\n",
              "        <td>174137154</td>\n",
              "    </tr>\n",
              "    <tr>\n",
              "        <td>GEORGIA</td>\n",
              "        <td>16</td>\n",
              "        <td>10214860</td>\n",
              "        <td>225</td>\n",
              "        <td>154171776</td>\n",
              "    </tr>\n",
              "    <tr>\n",
              "        <td>NORTH CAROLINA</td>\n",
              "        <td>15</td>\n",
              "        <td>10042802</td>\n",
              "        <td>240</td>\n",
              "        <td>164214578</td>\n",
              "    </tr>\n",
              "    <tr>\n",
              "        <td>NEW JERSEY</td>\n",
              "        <td>14</td>\n",
              "        <td>8958013</td>\n",
              "        <td>270</td>\n",
              "        <td>183095167</td>\n",
              "    </tr>\n",
              "    <tr>\n",
              "        <td>VIRGINIA</td>\n",
              "        <td>13</td>\n",
              "        <td>8382993</td>\n",
              "        <td>283</td>\n",
              "        <td>191478160</td>\n",
              "    </tr>\n",
              "    <tr>\n",
              "        <td>WASHINGTON</td>\n",
              "        <td>12</td>\n",
              "        <td>7170351</td>\n",
              "        <td>295</td>\n",
              "        <td>198648511</td>\n",
              "    </tr>\n",
              "    <tr>\n",
              "        <td>TENNESSEE</td>\n",
              "        <td>11</td>\n",
              "        <td>6600299</td>\n",
              "        <td>339</td>\n",
              "        <td>225490977</td>\n",
              "    </tr>\n",
              "    <tr>\n",
              "        <td>INDIANA</td>\n",
              "        <td>11</td>\n",
              "        <td>6619680</td>\n",
              "        <td>328</td>\n",
              "        <td>218890678</td>\n",
              "    </tr>\n",
              "    <tr>\n",
              "        <td>MASSACHUSETTS</td>\n",
              "        <td>11</td>\n",
              "        <td>6794422</td>\n",
              "        <td>317</td>\n",
              "        <td>212270998</td>\n",
              "    </tr>\n",
              "    <tr>\n",
              "        <td>ARIZONA</td>\n",
              "        <td>11</td>\n",
              "        <td>6828065</td>\n",
              "        <td>306</td>\n",
              "        <td>205476576</td>\n",
              "    </tr>\n",
              "    <tr>\n",
              "        <td>MINNESOTA</td>\n",
              "        <td>10</td>\n",
              "        <td>5489594</td>\n",
              "        <td>379</td>\n",
              "        <td>248841981</td>\n",
              "    </tr>\n",
              "    <tr>\n",
              "        <td>WISCONSIN</td>\n",
              "        <td>10</td>\n",
              "        <td>5771337</td>\n",
              "        <td>369</td>\n",
              "        <td>243352387</td>\n",
              "    </tr>\n",
              "    <tr>\n",
              "        <td>MARYLAND</td>\n",
              "        <td>10</td>\n",
              "        <td>6006401</td>\n",
              "        <td>359</td>\n",
              "        <td>237581050</td>\n",
              "    </tr>\n",
              "    <tr>\n",
              "        <td>MISSOURI</td>\n",
              "        <td>10</td>\n",
              "        <td>6083672</td>\n",
              "        <td>349</td>\n",
              "        <td>231574649</td>\n",
              "    </tr>\n",
              "    <tr>\n",
              "        <td>ALABAMA</td>\n",
              "        <td>9</td>\n",
              "        <td>4858979</td>\n",
              "        <td>406</td>\n",
              "        <td>264053680</td>\n",
              "    </tr>\n",
              "    <tr>\n",
              "        <td>SOUTH CAROLINA</td>\n",
              "        <td>9</td>\n",
              "        <td>4896146</td>\n",
              "        <td>397</td>\n",
              "        <td>259194701</td>\n",
              "    </tr>\n",
              "    <tr>\n",
              "        <td>COLORADO</td>\n",
              "        <td>9</td>\n",
              "        <td>5456574</td>\n",
              "        <td>388</td>\n",
              "        <td>254298555</td>\n",
              "    </tr>\n",
              "    <tr>\n",
              "        <td>KENTUCKY</td>\n",
              "        <td>8</td>\n",
              "        <td>4425092</td>\n",
              "        <td>422</td>\n",
              "        <td>273149496</td>\n",
              "    </tr>\n",
              "    <tr>\n",
              "        <td>LOUISIANA</td>\n",
              "        <td>8</td>\n",
              "        <td>4670724</td>\n",
              "        <td>414</td>\n",
              "        <td>268724404</td>\n",
              "    </tr>\n",
              "    <tr>\n",
              "        <td>CONNECTICUT</td>\n",
              "        <td>7</td>\n",
              "        <td>3590886</td>\n",
              "        <td>443</td>\n",
              "        <td>284680697</td>\n",
              "    </tr>\n",
              "    <tr>\n",
              "        <td>OKLAHOMA</td>\n",
              "        <td>7</td>\n",
              "        <td>3911338</td>\n",
              "        <td>436</td>\n",
              "        <td>281089811</td>\n",
              "    </tr>\n",
              "    <tr>\n",
              "        <td>OREGON</td>\n",
              "        <td>7</td>\n",
              "        <td>4028977</td>\n",
              "        <td>429</td>\n",
              "        <td>277178473</td>\n",
              "    </tr>\n",
              "    <tr>\n",
              "        <td>NEVADA</td>\n",
              "        <td>6</td>\n",
              "        <td>2890845</td>\n",
              "        <td>479</td>\n",
              "        <td>302573538</td>\n",
              "    </tr>\n",
              "    <tr>\n",
              "        <td>KANSAS</td>\n",
              "        <td>6</td>\n",
              "        <td>2911641</td>\n",
              "        <td>473</td>\n",
              "        <td>299682693</td>\n",
              "    </tr>\n",
              "    <tr>\n",
              "        <td>ARKANSAS</td>\n",
              "        <td>6</td>\n",
              "        <td>2978204</td>\n",
              "        <td>467</td>\n",
              "        <td>296771052</td>\n",
              "    </tr>\n",
              "    <tr>\n",
              "        <td>MISSISSIPPI</td>\n",
              "        <td>6</td>\n",
              "        <td>2992333</td>\n",
              "        <td>461</td>\n",
              "        <td>293792848</td>\n",
              "    </tr>\n",
              "    <tr>\n",
              "        <td>UTAH</td>\n",
              "        <td>6</td>\n",
              "        <td>2995919</td>\n",
              "        <td>455</td>\n",
              "        <td>290800515</td>\n",
              "    </tr>\n",
              "    <tr>\n",
              "        <td>IOWA</td>\n",
              "        <td>6</td>\n",
              "        <td>3123899</td>\n",
              "        <td>449</td>\n",
              "        <td>287804596</td>\n",
              "    </tr>\n",
              "    <tr>\n",
              "        <td>WEST VIRGINIA</td>\n",
              "        <td>5</td>\n",
              "        <td>1844128</td>\n",
              "        <td>494</td>\n",
              "        <td>308398965</td>\n",
              "    </tr>\n",
              "    <tr>\n",
              "        <td>NEBRASKA</td>\n",
              "        <td>5</td>\n",
              "        <td>1896190</td>\n",
              "        <td>489</td>\n",
              "        <td>306554837</td>\n",
              "    </tr>\n",
              "    <tr>\n",
              "        <td>NEW MEXICO</td>\n",
              "        <td>5</td>\n",
              "        <td>2085109</td>\n",
              "        <td>484</td>\n",
              "        <td>304658647</td>\n",
              "    </tr>\n",
              "    <tr>\n",
              "        <td>RHODE ISLAND</td>\n",
              "        <td>4</td>\n",
              "        <td>1056298</td>\n",
              "        <td>514</td>\n",
              "        <td>315201732</td>\n",
              "    </tr>\n",
              "    <tr>\n",
              "        <td>MAINE</td>\n",
              "        <td>4</td>\n",
              "        <td>1329328</td>\n",
              "        <td>510</td>\n",
              "        <td>314145434</td>\n",
              "    </tr>\n",
              "    <tr>\n",
              "        <td>NEW HAMPSHIRE</td>\n",
              "        <td>4</td>\n",
              "        <td>1330608</td>\n",
              "        <td>506</td>\n",
              "        <td>312816106</td>\n",
              "    </tr>\n",
              "</table>"
            ],
            "text/plain": [
              "[('CALIFORNIA', 55, 39144818, 55, 39144818),\n",
              " ('TEXAS', 38, 27469114, 93, 66613932),\n",
              " ('NEW YORK', 29, 19795791, 151, 106680995),\n",
              " ('FLORIDA', 29, 20271272, 122, 86885204),\n",
              " ('PENNSYLVANIA', 20, 12802503, 191, 132343493),\n",
              " ('ILLINOIS', 20, 12859995, 171, 119540990),\n",
              " ('OHIO', 18, 11613423, 209, 143956916),\n",
              " ('MICHIGAN', 16, 9922576, 256, 174137154),\n",
              " ('GEORGIA', 16, 10214860, 225, 154171776),\n",
              " ('NORTH CAROLINA', 15, 10042802, 240, 164214578),\n",
              " ('NEW JERSEY', 14, 8958013, 270, 183095167),\n",
              " ('VIRGINIA', 13, 8382993, 283, 191478160),\n",
              " ('WASHINGTON', 12, 7170351, 295, 198648511),\n",
              " ('TENNESSEE', 11, 6600299, 339, 225490977),\n",
              " ('INDIANA', 11, 6619680, 328, 218890678),\n",
              " ('MASSACHUSETTS', 11, 6794422, 317, 212270998),\n",
              " ('ARIZONA', 11, 6828065, 306, 205476576),\n",
              " ('MINNESOTA', 10, 5489594, 379, 248841981),\n",
              " ('WISCONSIN', 10, 5771337, 369, 243352387),\n",
              " ('MARYLAND', 10, 6006401, 359, 237581050),\n",
              " ('MISSOURI', 10, 6083672, 349, 231574649),\n",
              " ('ALABAMA', 9, 4858979, 406, 264053680),\n",
              " ('SOUTH CAROLINA', 9, 4896146, 397, 259194701),\n",
              " ('COLORADO', 9, 5456574, 388, 254298555),\n",
              " ('KENTUCKY', 8, 4425092, 422, 273149496),\n",
              " ('LOUISIANA', 8, 4670724, 414, 268724404),\n",
              " ('CONNECTICUT', 7, 3590886, 443, 284680697),\n",
              " ('OKLAHOMA', 7, 3911338, 436, 281089811),\n",
              " ('OREGON', 7, 4028977, 429, 277178473),\n",
              " ('NEVADA', 6, 2890845, 479, 302573538),\n",
              " ('KANSAS', 6, 2911641, 473, 299682693),\n",
              " ('ARKANSAS', 6, 2978204, 467, 296771052),\n",
              " ('MISSISSIPPI', 6, 2992333, 461, 293792848),\n",
              " ('UTAH', 6, 2995919, 455, 290800515),\n",
              " ('IOWA', 6, 3123899, 449, 287804596),\n",
              " ('WEST VIRGINIA', 5, 1844128, 494, 308398965),\n",
              " ('NEBRASKA', 5, 1896190, 489, 306554837),\n",
              " ('NEW MEXICO', 5, 2085109, 484, 304658647),\n",
              " ('RHODE ISLAND', 4, 1056298, 514, 315201732),\n",
              " ('MAINE', 4, 1329328, 510, 314145434),\n",
              " ('NEW HAMPSHIRE', 4, 1330608, 506, 312816106)]"
            ]
          },
          "metadata": {
            "tags": []
          },
          "execution_count": 17
        }
      ]
    }
  ]
}